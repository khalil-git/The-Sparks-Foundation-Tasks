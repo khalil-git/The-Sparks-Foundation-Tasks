{
  "cells": [
    {
      "cell_type": "markdown",
      "metadata": {
        "id": "sM1t8dzjjZaY"
      },
      "source": [
        "### Author : Mohamed Khalil\n",
        "### Task 1 : Prediction using Supervised Machine Learning\n",
        "### GRIP @ The Sparks Foundation\n",
        "\n",
        "In this regression task I tried to predict the percentage of student marks  based upon the number of hours they studied.\n",
        "\n",
        "This is  a simple liner regression task as it involves only 2 variables.\n",
        "\n"
      ]
    },
    {
      "cell_type": "markdown",
      "metadata": {
        "id": "T8kxprC8j0fY"
      },
      "source": [
        "### **Technical Stack**"
      ]
    },
    {
      "cell_type": "code",
      "execution_count": 15,
      "metadata": {
        "id": "00Ow938ymmr6"
      },
      "outputs": [],
      "source": [
        "# Importing the required libraries\n",
        "import pandas as pd\n",
        "import numpy as np\n",
        "import matplotlib.pyplot as plt\n",
        "%matplotlib inline\n",
        "from sklearn.linear_model import LinearRegression\n",
        "from sklearn.metrics import mean_absolute_error, mean_squared_error,r2_score"
      ]
    },
    {
      "cell_type": "markdown",
      "metadata": {
        "id": "CdVsuywUYAWL"
      },
      "source": [
        "### **Reading the data from the source**"
      ]
    },
    {
      "cell_type": "code",
      "execution_count": 16,
      "metadata": {
        "colab": {
          "base_uri": "https://localhost:8080/",
          "height": 224
        },
        "id": "MIwfWlSYmYEq",
        "outputId": "73d8dee9-37b6-447a-d63e-ea9f01a781fc"
      },
      "outputs": [
        {
          "name": "stdout",
          "output_type": "stream",
          "text": [
            "Importing Data Successfully\n"
          ]
        },
        {
          "data": {
            "text/html": [
              "<div>\n",
              "<style scoped>\n",
              "    .dataframe tbody tr th:only-of-type {\n",
              "        vertical-align: middle;\n",
              "    }\n",
              "\n",
              "    .dataframe tbody tr th {\n",
              "        vertical-align: top;\n",
              "    }\n",
              "\n",
              "    .dataframe thead th {\n",
              "        text-align: right;\n",
              "    }\n",
              "</style>\n",
              "<table border=\"1\" class=\"dataframe\">\n",
              "  <thead>\n",
              "    <tr style=\"text-align: right;\">\n",
              "      <th></th>\n",
              "      <th>Hours</th>\n",
              "      <th>Scores</th>\n",
              "    </tr>\n",
              "  </thead>\n",
              "  <tbody>\n",
              "    <tr>\n",
              "      <th>0</th>\n",
              "      <td>2.5</td>\n",
              "      <td>21</td>\n",
              "    </tr>\n",
              "    <tr>\n",
              "      <th>1</th>\n",
              "      <td>5.1</td>\n",
              "      <td>47</td>\n",
              "    </tr>\n",
              "    <tr>\n",
              "      <th>2</th>\n",
              "      <td>3.2</td>\n",
              "      <td>27</td>\n",
              "    </tr>\n",
              "    <tr>\n",
              "      <th>3</th>\n",
              "      <td>8.5</td>\n",
              "      <td>75</td>\n",
              "    </tr>\n",
              "    <tr>\n",
              "      <th>4</th>\n",
              "      <td>3.5</td>\n",
              "      <td>30</td>\n",
              "    </tr>\n",
              "  </tbody>\n",
              "</table>\n",
              "</div>"
            ],
            "text/plain": [
              "   Hours  Scores\n",
              "0    2.5      21\n",
              "1    5.1      47\n",
              "2    3.2      27\n",
              "3    8.5      75\n",
              "4    3.5      30"
            ]
          },
          "execution_count": 16,
          "metadata": {},
          "output_type": "execute_result"
        }
      ],
      "source": [
        "url = \"http://bit.ly/w-data\"\n",
        "df = pd.read_csv(url)\n",
        "print(\"Importing Data Successfully\")\n",
        "\n",
        "df.head()"
      ]
    },
    {
      "cell_type": "markdown",
      "metadata": {
        "id": "PnlJtnkTe33l"
      },
      "source": [
        "### **Input data Visualization**"
      ]
    },
    {
      "cell_type": "code",
      "execution_count": 17,
      "metadata": {
        "colab": {
          "base_uri": "https://localhost:8080/",
          "height": 472
        },
        "id": "y49Fkr8fmkoL",
        "outputId": "98a9598d-4bf4-4a09-e3f0-f16b1e189249"
      },
      "outputs": [
        {
          "data": {
            "image/png": "[encoded data removed]",
            "text/plain": [
              "<Figure size 640x480 with 1 Axes>"
            ]
          },
          "metadata": {},
          "output_type": "display_data"
        }
      ],
      "source": [
        "# Plotting the distribution of scores\n",
        "plt.scatter(df.Hours,df.Scores)\n",
        "plt.xlabel(\"Hours\")\n",
        "plt.ylabel(\"Scores\")\n",
        "plt.title(\"Hours vs Percentage\")\n",
        "plt.show()"
      ]
    },
    {
      "cell_type": "markdown",
      "metadata": {
        "id": "r3BRWa1u-aPV"
      },
      "source": [
        "**There is a clear positive correlation between hours and percentages.**"
      ]
    },
    {
      "cell_type": "markdown",
      "metadata": {
        "id": "EV22TmMNhGWr"
      },
      "source": [
        "### **Data Preprocessing**"
      ]
    },
    {
      "cell_type": "markdown",
      "metadata": {
        "id": "8Xe32ub3Y1ny"
      },
      "source": [
        "Dividing data into Features (inputs), Target (outputs) they also call it attributes and labels"
      ]
    },
    {
      "cell_type": "code",
      "execution_count": 18,
      "metadata": {
        "id": "S57x_c57B3_X"
      },
      "outputs": [],
      "source": [
        "features = \"Hours\"\n",
        "target = \"Scores\"\n",
        "y= df[target]\n",
        "X= df[features].to_frame()\n"
      ]
    },
    {
      "cell_type": "markdown",
      "metadata": {
        "id": "-eDxMsVNlzR-"
      },
      "source": [
        "### **Model Training**"
      ]
    },
    {
      "cell_type": "markdown",
      "metadata": {
        "id": "79lEVKSjd5PX"
      },
      "source": [
        "Vertical splite in this step we Splitting the data into training and testing sets, for training the algorithm."
      ]
    },
    {
      "cell_type": "code",
      "execution_count": 19,
      "metadata": {
        "id": "5hnyonUgFP_G"
      },
      "outputs": [],
      "source": [
        "\n",
        "from sklearn.model_selection import train_test_split\n",
        "X_train, X_test, y_train, y_test = train_test_split(X, y,\n",
        "                            test_size=0.2, random_state=0)\n"
      ]
    },
    {
      "cell_type": "markdown",
      "metadata": {
        "id": "AYbFwJLv_JGz"
      },
      "source": [
        "### Baseliene"
      ]
    },
    {
      "cell_type": "code",
      "execution_count": 20,
      "metadata": {
        "id": "AufdEDtR_UV5"
      },
      "outputs": [],
      "source": [
        "y_mean = y_train.mean()\n",
        "y_pred_baseline = [y_mean] * len(y_train)"
      ]
    },
    {
      "cell_type": "code",
      "execution_count": 21,
      "metadata": {
        "colab": {
          "base_uri": "https://localhost:8080/"
        },
        "id": "5ykMLiD3CJNB",
        "outputId": "261f8c7b-94e1-400f-e458-088b16b2156c"
      },
      "outputs": [
        {
          "name": "stdout",
          "output_type": "stream",
          "text": [
            "Mean Scores:  53.95\n",
            "Baseline MAE:  22.75\n"
          ]
        }
      ],
      "source": [
        "mae_baseline = mean_absolute_error(y_train, y_pred_baseline)\n",
        "print(\"Mean Scores: \", y_mean)\n",
        "print(\"Baseline MAE: \" , mae_baseline)"
      ]
    },
    {
      "cell_type": "markdown",
      "metadata": {
        "id": "7M4K8z7eC5NR"
      },
      "source": [
        "### Iterate"
      ]
    },
    {
      "cell_type": "code",
      "execution_count": 22,
      "metadata": {
        "colab": {
          "base_uri": "https://localhost:8080/"
        },
        "id": "QSoGGcseDHa8",
        "outputId": "ef003896-f1e7-4fff-f26c-eded0baaae01"
      },
      "outputs": [
        {
          "name": "stdout",
          "output_type": "stream",
          "text": [
            "Training complete.\n"
          ]
        }
      ],
      "source": [
        "model = LinearRegression()\n",
        "model.fit(X_train, y_train)\n",
        "print(\"Training complete.\")"
      ]
    },
    {
      "cell_type": "code",
      "execution_count": 23,
      "metadata": {
        "colab": {
          "base_uri": "https://localhost:8080/",
          "height": 430
        },
        "id": "s0nJActAoR48",
        "outputId": "c34ecdf6-7810-45a7-faff-5780c7a30079"
      },
      "outputs": [
        {
          "data": {
            "image/png": "[encoded data removed]",
            "text/plain": [
              "<Figure size 640x480 with 1 Axes>"
            ]
          },
          "metadata": {},
          "output_type": "display_data"
        }
      ],
      "source": [
        "# Plotting the regression line\n",
        "line = model.coef_ * X + model.intercept_\n",
        "\n",
        "# Plotting for the test data\n",
        "plt.scatter(X, y)\n",
        "plt.plot(X, line);\n",
        "plt.show()"
      ]
    },
    {
      "cell_type": "markdown",
      "metadata": {
        "id": "NnRL3JWBnTmt"
      },
      "source": [
        "### **Making Predictions** ###\n"
      ]
    },
    {
      "cell_type": "code",
      "execution_count": 24,
      "metadata": {
        "colab": {
          "base_uri": "https://localhost:8080/"
        },
        "id": "EKrDpxRjVqzf",
        "outputId": "55a712d7-1814-4bf2-a8f3-ab0ac74a606a"
      },
      "outputs": [
        {
          "name": "stdout",
          "output_type": "stream",
          "text": [
            "No of Hours:9.25 \n",
            "Predected Score: 93.69\n"
          ]
        },
        {
          "name": "stderr",
          "output_type": "stream",
          "text": [
            "C:\\Users\\Lenovo\\AppData\\Local\\Packages\\PythonSoftwareFoundation.Python.3.11_qbz5n2kfra8p0\\LocalCache\\local-packages\\Python311\\site-packages\\sklearn\\base.py:493: UserWarning: X does not have valid feature names, but LinearRegression was fitted with feature names\n",
            "  warnings.warn(\n"
          ]
        }
      ],
      "source": [
        "hours = 9.25\n",
        "own_pred = model.predict([[hours]])\n",
        "print(\"No of Hours:{} \".format(hours))\n",
        "print(\"Predected Score: {}\".format(own_pred[0].round(2)) )"
      ]
    },
    {
      "cell_type": "markdown",
      "metadata": {
        "id": "VV70xJ1MHZxs"
      },
      "source": [
        "### **Evaluating The Modle** ###\n",
        "The final step is to evaluate the performance of algorithm. This step is particularly important to compare how well different algorithms perform on a particular dataset. For simplicity here, we have chosen the mean absolute error. There are many such metrics."
      ]
    },
    {
      "cell_type": "code",
      "execution_count": 33,
      "metadata": {
        "colab": {
          "base_uri": "https://localhost:8080/"
        },
        "id": "-4OyE54qHcuc",
        "outputId": "daed469c-d7ad-481f-98ba-b8308ab3f852"
      },
      "outputs": [
        {
          "name": "stdout",
          "output_type": "stream",
          "text": [
            "Training MAE:  5.186601709180371\n",
            "Testing MAE:  4.183859899002975\n",
            "Baslien MSR:  21.598769307217406\n",
            "R-2: 0.9454906892105355\n"
          ]
        }
      ],
      "source": [
        "\n",
        "training_mae = mean_absolute_error(y_train, model.predict(X_train) )\n",
        "test_mae = mean_absolute_error(y_test, model.predict(X_test))\n",
        "print(\"Training MAE: \", training_mae)\n",
        "print(\"Testing MAE: \", test_mae)\n",
        "print(\"Baslien MSR: \", mean_squared_error(y_test, model.predict(X_test) ))\n",
        "print(\"R-2:\", r2_score(y_test, model.predict(X_test) ))"
      ]
    },
    {
      "cell_type": "markdown",
      "metadata": {},
      "source": [
        "R-2 = 0.9454906892105355 which is actually a great score for this model."
      ]
    },
    {
      "cell_type": "markdown",
      "metadata": {},
      "source": [
        "### Thank You"
      ]
    }
  ],
  "metadata": {
    "colab": {
      "provenance": []
    },
    "kernelspec": {
      "display_name": "Python 3",
      "name": "python3"
    },
    "language_info": {
      "codemirror_mode": {
        "name": "ipython",
        "version": 3
      },
      "file_extension": ".py",
      "mimetype": "text/x-python",
      "name": "python",
      "nbconvert_exporter": "python",
      "pygments_lexer": "ipython3",
      "version": "3.11.9"
    }
  },
  "nbformat": 4,
  "nbformat_minor": 0
}
